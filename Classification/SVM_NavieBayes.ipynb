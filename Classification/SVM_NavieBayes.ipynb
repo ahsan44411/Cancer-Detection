{
 "cells": [
  {
   "cell_type": "code",
   "execution_count": 149,
   "metadata": {},
   "outputs": [
    {
     "name": "stdout",
     "output_type": "stream",
     "text": [
      "train tp 3115\n",
      "train fp 3712\n",
      "test tp 320\n",
      "test fp 217\n"
     ]
    }
   ],
   "source": [
    "import os\n",
    "import cv2\n",
    "import numpy as np\n",
    "\n",
    "tp = 0\n",
    "fp = 0\n",
    "    \n",
    "X_train = []\n",
    "y_train = []\n",
    "    \n",
    "stop = 0\n",
    "    \n",
    "path = r'E:/Studies/fyp/detector/classification/SVM/content/train_tp'\n",
    "    \n",
    "for image in os.listdir(path):\n",
    "    pic = cv2.imread(path+'/'+image)\n",
    "    if np.shape(pic) != (65,65,3):\n",
    "            pic = cv2.resize(pic, (65,65))\n",
    "            X_train.append(pic)\n",
    "            y_train.append(1)\n",
    "            tp += 1\n",
    "            \n",
    "path = r'E:/Studies/fyp/detector/classification/SVM/content/train_fp'\n",
    "stop = 0\n",
    "for image in os.listdir(path):\n",
    "    pic = cv2.imread(path+'/'+image)\n",
    "    if np.shape(pic) != (65,65,3):\n",
    "            pic = cv2.resize(pic, (65,65))\n",
    "            X_train.append(pic)\n",
    "            y_train.append(0)\n",
    "            fp += 1\n",
    "\n",
    "X_train = np.array(X_train)\n",
    "X_train = X_train/255\n",
    "y_train = np.array(y_train)\n",
    "\n",
    "print('train tp',tp)\n",
    "print('train fp',fp)\n",
    "\n",
    "tp = 0\n",
    "fp = 0\n",
    "X_test = []\n",
    "y_test = []\n",
    "    \n",
    "path = r'E:/Studies/fyp/detector/classification/SVM/content/test_tp0.2'\n",
    "    \n",
    "for image in os.listdir(path):\n",
    "    pic = cv2.imread(path+'/'+image)\n",
    "    if np.shape(pic) != (65,65,3):\n",
    "        pic = cv2.resize(pic, (65,65))\n",
    "        X_test.append(pic)\n",
    "        y_test.append(1)\n",
    "        tp += 1\n",
    "            \n",
    "path = r'E:/Studies/fyp/detector/classification/SVM/content/test_fp0.2'\n",
    "    \n",
    "for image in os.listdir(path):\n",
    "    pic = cv2.imread(path+'/'+image)\n",
    "    if np.shape(pic) != (65,65,3):\n",
    "        pic = cv2.resize(pic, (65,65))\n",
    "        X_test.append(pic)\n",
    "        y_test.append(0)\n",
    "        fp += 1\n",
    "\n",
    "\n",
    "X_test = np.array(X_test)\n",
    "X_test = X_test/255\n",
    "y_test = np.array(y_test)\n",
    "\n",
    "print('test tp',tp)\n",
    "print('test fp',fp)\n",
    "\n",
    "\n"
   ]
  },
  {
   "cell_type": "code",
   "execution_count": 150,
   "metadata": {},
   "outputs": [],
   "source": [
    "from sklearn.utils import shuffle\n",
    "X_train,y_train = shuffle(X_train, y_train, random_state=0)\n",
    "X_test,y_test = shuffle(X_test, y_test, random_state=0)"
   ]
  },
  {
   "cell_type": "code",
   "execution_count": 151,
   "metadata": {},
   "outputs": [],
   "source": [
    "nsamples, nx, ny, channels = X_train.shape\n",
    "X_train = X_train.reshape((nsamples,nx*ny*channels))"
   ]
  },
  {
   "cell_type": "code",
   "execution_count": 152,
   "metadata": {},
   "outputs": [],
   "source": [
    "nsamples, nx, ny, channels = X_test.shape\n",
    "X_test = X_test.reshape((nsamples,nx*ny*channels))"
   ]
  },
  {
   "cell_type": "code",
   "execution_count": null,
   "metadata": {},
   "outputs": [],
   "source": [
    "# SVM"
   ]
  },
  {
   "cell_type": "code",
   "execution_count": 153,
   "metadata": {},
   "outputs": [
    {
     "data": {
      "text/plain": [
       "SVC(C=0.1, break_ties=False, cache_size=200, class_weight=None, coef0=0.0,\n",
       "    decision_function_shape='ovr', degree=3, gamma='scale', kernel='rbf',\n",
       "    max_iter=-1, probability=False, random_state=None, shrinking=True,\n",
       "    tol=0.001, verbose=False)"
      ]
     },
     "execution_count": 153,
     "metadata": {},
     "output_type": "execute_result"
    }
   ],
   "source": [
    "from sklearn import svm\n",
    "\n",
    "#Create a svm Classifier\n",
    "clf = svm.SVC(kernel='rbf',C=0.1) # Linear Kernel\n",
    "\n",
    "#Train the model using the training sets\n",
    "clf.fit(X_train, y_train)"
   ]
  },
  {
   "cell_type": "code",
   "execution_count": 154,
   "metadata": {},
   "outputs": [],
   "source": [
    "pred_X = clf.predict(X_test)"
   ]
  },
  {
   "cell_type": "code",
   "execution_count": 155,
   "metadata": {},
   "outputs": [
    {
     "name": "stdout",
     "output_type": "stream",
     "text": [
      "              precision    recall  f1-score   support\n",
      "\n",
      "           0       0.60      0.71      0.65       217\n",
      "           1       0.78      0.68      0.72       320\n",
      "\n",
      "    accuracy                           0.69       537\n",
      "   macro avg       0.69      0.69      0.69       537\n",
      "weighted avg       0.70      0.69      0.69       537\n",
      "\n"
     ]
    }
   ],
   "source": [
    "from sklearn.metrics import classification_report\n",
    "print(classification_report(y_test, pred_X))"
   ]
  },
  {
   "cell_type": "code",
   "execution_count": 156,
   "metadata": {},
   "outputs": [
    {
     "data": {
      "text/plain": [
       "['SVM.joblib']"
      ]
     },
     "execution_count": 156,
     "metadata": {},
     "output_type": "execute_result"
    }
   ],
   "source": [
    "from joblib import dump, load\n",
    "dump(clf, 'SVM.joblib') "
   ]
  },
  {
   "cell_type": "code",
   "execution_count": null,
   "metadata": {},
   "outputs": [],
   "source": [
    "# Navie Bayes"
   ]
  },
  {
   "cell_type": "code",
   "execution_count": 134,
   "metadata": {},
   "outputs": [
    {
     "data": {
      "text/plain": [
       "GaussianNB(priors=None, var_smoothing=1e-09)"
      ]
     },
     "execution_count": 134,
     "metadata": {},
     "output_type": "execute_result"
    }
   ],
   "source": [
    "from sklearn.naive_bayes import GaussianNB\n",
    "\n",
    "gnb = GaussianNB()\n",
    "gnb.fit(X_train, y_train)"
   ]
  },
  {
   "cell_type": "code",
   "execution_count": 139,
   "metadata": {},
   "outputs": [],
   "source": [
    "pred_X = gnb.predict(X_test)"
   ]
  },
  {
   "cell_type": "code",
   "execution_count": 140,
   "metadata": {},
   "outputs": [
    {
     "name": "stdout",
     "output_type": "stream",
     "text": [
      "              precision    recall  f1-score   support\n",
      "\n",
      "           0       0.57      0.73      0.64       217\n",
      "           1       0.77      0.62      0.69       320\n",
      "\n",
      "    accuracy                           0.66       537\n",
      "   macro avg       0.67      0.67      0.66       537\n",
      "weighted avg       0.69      0.66      0.67       537\n",
      "\n"
     ]
    }
   ],
   "source": [
    "from sklearn.metrics import classification_report\n",
    "print(classification_report(y_test, pred_X))"
   ]
  },
  {
   "cell_type": "code",
   "execution_count": 137,
   "metadata": {},
   "outputs": [
    {
     "data": {
      "text/plain": [
       "['navieBayes.joblib']"
      ]
     },
     "execution_count": 137,
     "metadata": {},
     "output_type": "execute_result"
    }
   ],
   "source": [
    "from joblib import dump, load\n",
    "dump(gnb, 'navieBayes.joblib') "
   ]
  },
  {
   "cell_type": "code",
   "execution_count": null,
   "metadata": {},
   "outputs": [],
   "source": [
    "gnb = load('navieBayes.joblib') "
   ]
  },
  {
   "cell_type": "code",
   "execution_count": null,
   "metadata": {},
   "outputs": [],
   "source": []
  },
  {
   "cell_type": "code",
   "execution_count": null,
   "metadata": {},
   "outputs": [],
   "source": []
  },
  {
   "cell_type": "code",
   "execution_count": null,
   "metadata": {},
   "outputs": [],
   "source": []
  },
  {
   "cell_type": "code",
   "execution_count": null,
   "metadata": {},
   "outputs": [],
   "source": []
  },
  {
   "cell_type": "code",
   "execution_count": null,
   "metadata": {},
   "outputs": [],
   "source": []
  }
 ],
 "metadata": {
  "kernelspec": {
   "display_name": "Python 3",
   "language": "python",
   "name": "python3"
  },
  "language_info": {
   "codemirror_mode": {
    "name": "ipython",
    "version": 3
   },
   "file_extension": ".py",
   "mimetype": "text/x-python",
   "name": "python",
   "nbconvert_exporter": "python",
   "pygments_lexer": "ipython3",
   "version": "3.7.6"
  }
 },
 "nbformat": 4,
 "nbformat_minor": 4
}
